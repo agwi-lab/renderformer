{
 "cells": [
  {
   "cell_type": "markdown",
   "id": "1b77395f",
   "metadata": {},
   "source": [
    "# Import libs"
   ]
  },
  {
   "cell_type": "code",
   "execution_count": 2,
   "id": "c0624786",
   "metadata": {},
   "outputs": [
    {
     "name": "stderr",
     "output_type": "stream",
     "text": [
      "/home/devel/.draft/renderformer/.venv/lib/python3.10/site-packages/tqdm/auto.py:21: TqdmWarning: IProgress not found. Please update jupyter and ipywidgets. See https://ipywidgets.readthedocs.io/en/stable/user_install.html\n",
      "  from .autonotebook import tqdm as notebook_tqdm\n"
     ]
    },
    {
     "name": "stdout",
     "output_type": "stream",
     "text": [
      "flash_attn is not installed. Please install it from https://github.com/Dao-AILab/flash-attention.\n",
      "Falling back to sdpa.\n"
     ]
    }
   ],
   "source": [
    "import os\n",
    "import torch\n",
    "import numpy as np\n",
    "import imageio\n",
    "import matplotlib.pyplot as plt\n",
    "from renderformer import RenderFormerRenderingPipeline\n",
    "\n",
    "from infer import load_single_h5_data\n",
    "\n",
    "import torch.nn as nn\n",
    "import torch.optim as optim\n",
    "from torch.utils.data import Dataset, DataLoader\n",
    "from pathlib import Path\n",
    "from tqdm import tqdm\n",
    "from torch.utils.tensorboard import SummaryWriter"
   ]
  },
  {
   "cell_type": "markdown",
   "id": "2e47f241",
   "metadata": {},
   "source": [
    "# Generate syntetic dataset"
   ]
  },
  {
   "cell_type": "code",
   "execution_count": 3,
   "id": "d2cc19d6",
   "metadata": {},
   "outputs": [],
   "source": [
    "# from generate_dataset import SceneGenerator\n",
    "# import asyncio\n",
    "\n",
    "\n",
    "# CONFIG = {\n",
    "#     \"DATA_PATH\": \"/home/devel/.draft/renderformer/datasets\",\n",
    "#     \"JSON_PATH\": \"/home/devel/.draft/renderformer/datasets/json\",\n",
    "#     \"H5_PATH\": \"/home/devel/.draft/renderformer/datasets/h5\",\n",
    "#     \"GT_PATH\": \"/home/devel/.draft/renderformer/datasets/gt\",\n",
    "#     \"TEMP_MESH_PATH\": \"/home/devel/.draft/renderformer/datasets/temp\",\n",
    "#     \"OBJ_PATH\": \"/home/devel/.draft/renderformer/examples/objects\",\n",
    "#     \"BASE_DIR\": \"/home/devel/.draft/renderformer/examples\",\n",
    "#     \"SCRIPT_NAME\": \"render_scene.py\",\n",
    "#     \"NUM_RANDOM_SCENES\": 5,\n",
    "#     \"MAX_CONCURRENT_TASKS\": 4,\n",
    "# }\n",
    "\n",
    "\n",
    "# generator = SceneGenerator(CONFIG)\n",
    "\n",
    "# # Asynchronous generation\n",
    "# await generator.generate_dataset()"
   ]
  },
  {
   "cell_type": "markdown",
   "id": "a6e4f705",
   "metadata": {},
   "source": [
    "# Model pretrained inference"
   ]
  },
  {
   "cell_type": "code",
   "execution_count": 4,
   "id": "f7b04c3d",
   "metadata": {},
   "outputs": [
    {
     "name": "stdout",
     "output_type": "stream",
     "text": [
      "Inference completed. Rendered images shape: torch.Size([1, 1, 512, 512, 3])\n",
      "Saved output/random_scene_0_rock_view_0.exr and output/random_scene_0_rock_view_0.png\n"
     ]
    }
   ],
   "source": [
    "device = torch.device('cuda:0' if torch.cuda.is_available() else 'mps' if torch.backends.mps.is_available() else 'cpu')\n",
    "\n",
    "model_id = \"microsoft/renderformer-v1.1-swin-large\"\n",
    "pipeline = RenderFormerRenderingPipeline.from_pretrained(model_id)\n",
    "\n",
    "if device == torch.device('cuda') and os.name == 'posix':  # avoid windows\n",
    "    from renderformer_liger_kernel import apply_kernels\n",
    "    apply_kernels(pipeline.model)\n",
    "    torch.backends.cuda.matmul.allow_tf32 = True\n",
    "    torch.backends.cudnn.allow_tf32 = True\n",
    "elif device == torch.device('mps'):\n",
    "    precision = 'fp32'\n",
    "    print(\"bf16 and fp16 will cause too large error in MPS, force using fp32 instead.\")\n",
    "pipeline.to(device)\n",
    "\n",
    "# Load data and move to device\n",
    "h5_file_path = \"/home/devel/.draft/renderformer/datasets/h5/random_scene_0_rock.h5\"\n",
    "data = load_single_h5_data(h5_file_path)\n",
    "\n",
    "# Add batch dimension to all tensors\n",
    "triangles = data['triangles'].unsqueeze(0).to(device)\n",
    "texture = data['texture'].unsqueeze(0).to(device)\n",
    "mask = data['mask'].unsqueeze(0).to(device)\n",
    "vn = data['vn'].unsqueeze(0).to(device)\n",
    "c2w = data['c2w'].unsqueeze(0).to(device)\n",
    "fov = data['fov'].unsqueeze(0).unsqueeze(-1).to(device)\n",
    "resolution = 512 # 256, 512, 1024\n",
    "\n",
    "rendered_imgs = pipeline(\n",
    "    triangles=triangles,\n",
    "    texture=texture,\n",
    "    mask=mask,\n",
    "    vn=vn,\n",
    "    c2w=c2w,\n",
    "    fov=fov,\n",
    "    resolution=resolution,\n",
    "    torch_dtype=torch.float32\n",
    ")\n",
    "\n",
    "print(\"Inference completed. Rendered images shape:\", rendered_imgs.shape)\n",
    "\n",
    "output_dir = \"output\"\n",
    "os.makedirs(output_dir, exist_ok=True)\n",
    "base_name = os.path.splitext(os.path.basename(h5_file_path))[0]\n",
    "\n",
    "nv = c2w.shape[1]\n",
    "for i in range(nv):\n",
    "    hdr_img = rendered_imgs[0, i].cpu().numpy().astype(np.float32)\n",
    "    ldr_img = np.clip(hdr_img, 0, 1)\n",
    "    ldr_img = (ldr_img * 255).astype(np.uint8)\n",
    "\n",
    "    hdr_path = os.path.join(output_dir, f\"{base_name}_view_{i}.exr\")\n",
    "    ldr_path = os.path.join(output_dir, f\"{base_name}_view_{i}.png\")\n",
    "\n",
    "    imageio.v3.imwrite(hdr_path, hdr_img)\n",
    "    imageio.v3.imwrite(ldr_path, ldr_img)\n",
    "\n",
    "    print(f\"Saved {hdr_path} and {ldr_path}\")"
   ]
  },
  {
   "cell_type": "markdown",
   "id": "37b1f4f5",
   "metadata": {},
   "source": [
    "# Model training"
   ]
  },
  {
   "cell_type": "code",
   "execution_count": 5,
   "id": "bf9009af",
   "metadata": {},
   "outputs": [],
   "source": [
    "class RenderFormerDataset(Dataset):\n",
    "    def __init__(self, h5_dir, gt_dir, device='cuda'):\n",
    "        \"\"\"\n",
    "        Dataset для обучения RenderFormer\n",
    "        \n",
    "        Args:\n",
    "            h5_dir: путь к директории с H5 файлами сцен\n",
    "            gt_dir: путь к директории с ground truth изображениями\n",
    "            device: устройство для загрузки данных\n",
    "        \"\"\"\n",
    "        self.h5_dir = Path(h5_dir)\n",
    "        self.gt_dir = Path(gt_dir)\n",
    "        self.device = device\n",
    "        \n",
    "        # Собираем все H5 файлы\n",
    "        self.h5_files = list(self.h5_dir.glob(\"*.h5\"))\n",
    "        print(f\"Найдено {len(self.h5_files)} H5 файлов для обучения\")\n",
    "\n",
    "    def __len__(self):\n",
    "        return len(self.h5_files)\n",
    "    \n",
    "    def __getitem__(self, idx):\n",
    "        h5_file = self.h5_files[idx]\n",
    "        base_name = h5_file.stem\n",
    "\n",
    "        # Загружаем данные сцены из H5\n",
    "        scene_data = load_single_h5_data(str(h5_file))\n",
    "        \n",
    "        # Загружаем ground truth изображения\n",
    "        gt_images = []\n",
    "        nv = scene_data['c2w'].shape[0]  # количество видов\n",
    "        \n",
    "        for view_idx in range(nv):\n",
    "            # gt_path = self.gt_dir / f\"{base_name}_view_{view_idx}.exr\"\n",
    "            gt_path = self.gt_dir / f\"{base_name}.png\"\n",
    "            if gt_path.exists():\n",
    "                gt_img = imageio.v3.imread(str(gt_path))\n",
    "                gt_images.append(torch.from_numpy(gt_img.astype(np.float32)))\n",
    "            else:\n",
    "                print(f\"Предупреждение: GT изображение не найдено: {gt_path}\")\n",
    "                # Создаем пустое изображение как заглушку\n",
    "                gt_images.append(torch.zeros(512, 512, 3, dtype=torch.float32))\n",
    "        \n",
    "        gt_images = torch.stack(gt_images)  # [num_views, H, W, 3]\n",
    "\n",
    "        # Scene data parsing\n",
    "        triangles = scene_data['triangles']\n",
    "        texture = scene_data['texture']\n",
    "        mask = scene_data['mask']\n",
    "        vn = scene_data['vn']\n",
    "        c2w = scene_data['c2w']\n",
    "        fov = scene_data['fov']\n",
    "        resolution = 512\n",
    "\n",
    "        return {\n",
    "            'triangles': triangles,\n",
    "            'texture': texture,\n",
    "            'mask': mask,\n",
    "            'vn': vn,\n",
    "            'c2w': c2w,\n",
    "            'fov': fov,\n",
    "            'gt_images': gt_images,\n",
    "            'resolution': resolution\n",
    "        }\n",
    "\n",
    "class RenderFormerTrainer:\n",
    "    def __init__(self, pipeline, device='cuda', learning_rate=1e-4):\n",
    "        self.pipeline = pipeline\n",
    "        self.device = device\n",
    "        self.pipeline.to(device)\n",
    "        \n",
    "        # Оптимизатор\n",
    "        self.optimizer = optim.AdamW(self.pipeline.model.parameters(), lr=learning_rate, weight_decay=1e-4)\n",
    "\n",
    "        # Функция потерь\n",
    "        self.criterion = nn.MSELoss()\n",
    "        \n",
    "        # Планировщик обучения\n",
    "        self.scheduler = optim.lr_scheduler.CosineAnnealingLR(self.optimizer, T_max=100)\n",
    "        \n",
    "        # TensorBoard для логирования\n",
    "        self.writer = SummaryWriter('runs/renderformer_training')\n",
    "        \n",
    "        self.train_losses = []\n",
    "        self.val_losses = []\n",
    "        \n",
    "    def train_epoch(self, dataloader, epoch):\n",
    "        self.pipeline.model.train()\n",
    "        total_loss = 0.0\n",
    "        num_batches = len(dataloader)\n",
    "        \n",
    "        progress_bar = tqdm(dataloader, desc=f'Эпоха {epoch+1}')\n",
    "        \n",
    "        for batch_idx, batch in enumerate(progress_bar):\n",
    "            # Перемещаем данные на устройство\n",
    "            triangles = batch['triangles'].to(self.device)\n",
    "            texture = batch['texture'].to(self.device)\n",
    "            mask = batch['mask'].to(self.device)\n",
    "            vn = batch['vn'].to(self.device)\n",
    "            c2w = batch['c2w'].to(self.device)\n",
    "            fov = batch['fov'].unsqueeze(-1).to(self.device)  # добавляем размерность\n",
    "            gt_images = batch['gt_images'].to(self.device)\n",
    "\n",
    "            # Обнуляем градиенты\n",
    "            self.optimizer.zero_grad()\n",
    "            \n",
    "            # Прямой проход\n",
    "            try:\n",
    "                rendered_images = self.pipeline(\n",
    "                    triangles=triangles,\n",
    "                    texture=texture,\n",
    "                    mask=mask,\n",
    "                    vn=vn,\n",
    "                    c2w=c2w,\n",
    "                    fov=fov,\n",
    "                    resolution=512,\n",
    "                    torch_dtype=torch.float16\n",
    "                )\n",
    "\n",
    "                print(\"Compared shapes: \")\n",
    "                print(rendered_images.shape, gt_images.shape)\n",
    "                \n",
    "                # Вычисляем потери\n",
    "                loss = self.criterion(rendered_images, gt_images)\n",
    "                \n",
    "                # Обратный проход\n",
    "                loss.backward()\n",
    "                \n",
    "                # Обрезаем градиенты\n",
    "                torch.nn.utils.clip_grad_norm_(self.pipeline.model.parameters(), max_norm=1.0)\n",
    "                \n",
    "                # Обновляем веса\n",
    "                self.optimizer.step()\n",
    "                \n",
    "                total_loss += loss.item()\n",
    "                \n",
    "                # Обновляем прогресс-бар\n",
    "                progress_bar.set_postfix({\n",
    "                    'Loss': f'{loss.item():.6f}',\n",
    "                    'Avg Loss': f'{total_loss/(batch_idx+1):.6f}'\n",
    "                })\n",
    "                \n",
    "                # Логируем в TensorBoard\n",
    "                global_step = epoch * num_batches + batch_idx\n",
    "                self.writer.add_scalar('Loss/Train_Batch', loss.item(), global_step)\n",
    "                \n",
    "            except Exception as e:\n",
    "                print(f\"Ошибка в батче {batch_idx}: {e}\")\n",
    "                continue\n",
    "        \n",
    "        avg_loss = total_loss / num_batches\n",
    "        self.train_losses.append(avg_loss)\n",
    "        \n",
    "        # Логируем среднюю потерю за эпоху\n",
    "        self.writer.add_scalar('Loss/Train_Epoch', avg_loss, epoch)\n",
    "        \n",
    "        return avg_loss\n",
    "    \n",
    "    def validate(self, dataloader, epoch):\n",
    "        self.pipeline.model.eval()\n",
    "        total_loss = 0.0\n",
    "        num_batches = len(dataloader)\n",
    "        \n",
    "        with torch.no_grad():\n",
    "            for batch_idx, batch in enumerate(tqdm(dataloader, desc='Валидация')):\n",
    "                # Перемещаем данные на устройство\n",
    "                triangles = batch['triangles'].to(self.device)\n",
    "                texture = batch['texture'].to(self.device)\n",
    "                mask = batch['mask'].to(self.device)\n",
    "                vn = batch['vn'].to(self.device)\n",
    "                c2w = batch['c2w'].to(self.device)\n",
    "                fov = batch['fov'].unsqueeze(-1).to(self.device)\n",
    "                gt_images = batch['gt_images'].to(self.device)\n",
    "                \n",
    "                try:\n",
    "                    # Прямой проход\n",
    "                    rendered_images = self.pipeline(\n",
    "                        triangles=triangles,\n",
    "                        texture=texture,\n",
    "                        mask=mask,\n",
    "                        vn=vn,\n",
    "                        c2w=c2w,\n",
    "                        fov=fov,\n",
    "                        resolution=512,\n",
    "                        torch_dtype=torch.float16\n",
    "                    )\n",
    "                    \n",
    "                    # Вычисляем потери\n",
    "                    loss = self.criterion(rendered_images, gt_images)\n",
    "                    total_loss += loss.item()\n",
    "                    \n",
    "                except Exception as e:\n",
    "                    print(f\"Ошибка в валидационном батче {batch_idx}: {e}\")\n",
    "                    continue\n",
    "        \n",
    "        avg_loss = total_loss / num_batches if num_batches > 0 else 0\n",
    "        self.val_losses.append(avg_loss)\n",
    "\n",
    "        # Логируем валидационную потерю\n",
    "        self.writer.add_scalar('Loss/Validation', avg_loss, epoch)\n",
    "        \n",
    "        return avg_loss\n",
    "    \n",
    "    def save_checkpoint(self, epoch, filepath):\n",
    "        \"\"\"Сохраняем чекпоинт модели\"\"\"\n",
    "        checkpoint = {\n",
    "            'epoch': epoch,\n",
    "            'model_state_dict': self.pipeline.model.state_dict(),\n",
    "            'optimizer_state_dict': self.optimizer.state_dict(),\n",
    "            'scheduler_state_dict': self.scheduler.state_dict(),\n",
    "            'train_losses': self.train_losses,\n",
    "            'val_losses': self.val_losses\n",
    "        }\n",
    "        torch.save(checkpoint, filepath)\n",
    "        print(f\"Чекпоинт сохранен: {filepath}\")\n",
    "\n",
    "    def load_checkpoint(self, filepath):\n",
    "        \"\"\"Загружаем чекпоинт модели\"\"\"\n",
    "        checkpoint = torch.load(filepath, map_location=self.device)\n",
    "        self.model.load_state_dict(checkpoint['model_state_dict'])\n",
    "        self.optimizer.load_state_dict(checkpoint['optimizer_state_dict'])\n",
    "        self.scheduler.load_state_dict(checkpoint['scheduler_state_dict'])\n",
    "        self.train_losses = checkpoint['train_losses']\n",
    "        self.val_losses = checkpoint['val_losses']\n",
    "        return checkpoint['epoch']\n",
    "    \n",
    "    def plot_losses(self):\n",
    "        \"\"\"Строим график потерь\"\"\"\n",
    "        plt.figure(figsize=(10, 6))\n",
    "        plt.plot(self.train_losses, label='Train Loss', color='blue')\n",
    "        if self.val_losses:\n",
    "            plt.plot(self.val_losses, label='Validation Loss', color='red')\n",
    "        plt.xlabel('Эпоха')\n",
    "        plt.ylabel('Потеря')\n",
    "        plt.title('График потерь обучения')\n",
    "        plt.legend()\n",
    "        plt.grid(True)\n",
    "        plt.show()\n",
    "\n",
    "# Настройка обучения\n",
    "def setup_training(device='cuda'):\n",
    "    # Пути к данным\n",
    "    h5_dir = \"/home/devel/.draft/renderformer/datasets/h5\"\n",
    "    gt_dir = \"/home/devel/.draft/renderformer/datasets/gt\"\n",
    "    \n",
    "    # Создаем датасет\n",
    "    dataset = RenderFormerDataset(h5_dir, gt_dir, device=device)\n",
    "\n",
    "    # Разделяем на train/val\n",
    "    train_size = int(0.8 * len(dataset))\n",
    "    val_size = len(dataset) - train_size\n",
    "    train_dataset, val_dataset = torch.utils.data.random_split(dataset, [train_size, val_size])\n",
    "    \n",
    "    # Создаем DataLoader'ы\n",
    "    train_loader = DataLoader(train_dataset, batch_size=1, shuffle=True, num_workers=2)\n",
    "    val_loader = DataLoader(val_dataset, batch_size=1, shuffle=False, num_workers=2)\n",
    "\n",
    "    print(f\"Размер обучающего набора: {len(train_dataset)}\")\n",
    "    print(f\"Размер валидационного набора: {len(val_dataset)}\")\n",
    "    \n",
    "    return train_loader, val_loader\n",
    "\n",
    "# Запуск обучения\n",
    "def train_model(pipeline, num_epochs=50, device='cuda'):\n",
    "    # Настраиваем данные\n",
    "    train_loader, val_loader = setup_training(device)\n",
    "\n",
    "    # Создаем тренер\n",
    "    trainer = RenderFormerTrainer(pipeline, device=device, learning_rate=1e-5)\n",
    "\n",
    "    # Создаем директорию для чекпоинтов\n",
    "    checkpoint_dir = Path(\"checkpoints\")\n",
    "    checkpoint_dir.mkdir(exist_ok=True)\n",
    "    \n",
    "    best_val_loss = float('inf')\n",
    "\n",
    "    print(\"Начинаем обучение...\")\n",
    "    \n",
    "    for epoch in range(num_epochs):\n",
    "        print(f\"\\n=== Эпоха {epoch+1}/{num_epochs} ===\")\n",
    "        \n",
    "        # Обучение\n",
    "        train_loss = trainer.train_epoch(train_loader, epoch)\n",
    "        print(f\"Средняя потеря обучения: {train_loss:.6f}\")\n",
    "    \n",
    "        # Валидация\n",
    "        if len(val_loader) > 0:\n",
    "            val_loss = trainer.validate(val_loader, epoch)\n",
    "            print(f\"Средняя потеря валидации: {val_loss:.6f}\")\n",
    "            \n",
    "            # Сохраняем лучшую модель\n",
    "            if val_loss < best_val_loss:\n",
    "                best_val_loss = val_loss\n",
    "                trainer.save_checkpoint(epoch, checkpoint_dir / \"best_model.pth\")\n",
    "                print(f\"Новая лучшая модель сохранена! Val Loss: {val_loss:.6f}\")\n",
    "\n",
    "        # Обновляем планировщик\n",
    "        trainer.scheduler.step()\n",
    "        \n",
    "        # Сохраняем чекпоинт каждые 10 эпох\n",
    "        if (epoch + 1) % 10 == 0:\n",
    "            trainer.save_checkpoint(epoch, checkpoint_dir / f\"checkpoint_epoch_{epoch+1}.pth\")\n",
    "\n",
    "    # Строим график потерь\n",
    "    trainer.plot_losses()\n",
    "\n",
    "    # Закрываем TensorBoard writer\n",
    "    trainer.writer.close()\n",
    "\n",
    "    print(\"Обучение завершено!\")\n",
    "    return trainer"
   ]
  },
  {
   "cell_type": "code",
   "execution_count": null,
   "id": "ab23ac48",
   "metadata": {},
   "outputs": [
    {
     "name": "stdout",
     "output_type": "stream",
     "text": [
      "Найдено 10 H5 файлов для обучения\n",
      "Размер обучающего набора: 8\n",
      "Размер валидационного набора: 2\n",
      "Начинаем обучение...\n",
      "\n",
      "=== Эпоха 1/3 ===\n"
     ]
    },
    {
     "name": "stderr",
     "output_type": "stream",
     "text": [
      "Эпоха 1:   0%|                                                                                                                                                              | 0/8 [00:00<?, ?it/s]"
     ]
    },
    {
     "name": "stdout",
     "output_type": "stream",
     "text": [
      "Предупреждение: GT изображение не найдено: /home/devel/.draft/renderformer/datasets/gt/random_scene_3_obj3.png\n"
     ]
    },
    {
     "name": "stderr",
     "output_type": "stream",
     "text": [
      "Эпоха 1:  12%|██████████████████▊                                                                                                                                   | 1/8 [00:01<00:10,  1.47s/it]"
     ]
    },
    {
     "name": "stdout",
     "output_type": "stream",
     "text": [
      "Compared shapes: \n",
      "torch.Size([1, 1, 512, 512, 3]) torch.Size([1, 1, 512, 512, 3])\n",
      "Ошибка в батче 0: element 0 of tensors does not require grad and does not have a grad_fn\n"
     ]
    },
    {
     "name": "stderr",
     "output_type": "stream",
     "text": [
      "Эпоха 1:  25%|█████████████████████████████████████▌                                                                                                                | 2/8 [00:01<00:04,  1.34it/s]"
     ]
    },
    {
     "name": "stdout",
     "output_type": "stream",
     "text": [
      "Compared shapes: \n",
      "torch.Size([1, 1, 512, 512, 3]) torch.Size([1, 1, 512, 512, 3])\n",
      "Ошибка в батче 1: element 0 of tensors does not require grad and does not have a grad_fn\n"
     ]
    },
    {
     "name": "stderr",
     "output_type": "stream",
     "text": [
      "Эпоха 1:  38%|████████████████████████████████████████████████████████▎                                                                                             | 3/8 [00:02<00:02,  1.72it/s]"
     ]
    },
    {
     "name": "stdout",
     "output_type": "stream",
     "text": [
      "Compared shapes: \n",
      "torch.Size([1, 1, 512, 512, 3]) torch.Size([1, 1, 512, 512, 3])\n",
      "Ошибка в батче 2: element 0 of tensors does not require grad and does not have a grad_fn\n"
     ]
    },
    {
     "name": "stderr",
     "output_type": "stream",
     "text": [
      "Эпоха 1:  50%|███████████████████████████████████████████████████████████████████████████                                                                           | 4/8 [00:02<00:01,  2.06it/s]"
     ]
    },
    {
     "name": "stdout",
     "output_type": "stream",
     "text": [
      "Compared shapes: \n",
      "torch.Size([1, 1, 512, 512, 3]) torch.Size([1, 1, 512, 512, 3])\n",
      "Ошибка в батче 3: element 0 of tensors does not require grad and does not have a grad_fn\n"
     ]
    },
    {
     "name": "stderr",
     "output_type": "stream",
     "text": [
      "Эпоха 1:  62%|█████████████████████████████████████████████████████████████████████████████████████████████▊                                                        | 5/8 [00:02<00:01,  2.37it/s]"
     ]
    },
    {
     "name": "stdout",
     "output_type": "stream",
     "text": [
      "Compared shapes: \n",
      "torch.Size([1, 1, 512, 512, 3]) torch.Size([1, 1, 512, 512, 3])\n",
      "Ошибка в батче 4: element 0 of tensors does not require grad and does not have a grad_fn\n"
     ]
    },
    {
     "name": "stderr",
     "output_type": "stream",
     "text": [
      "Эпоха 1:  75%|████████████████████████████████████████████████████████████████████████████████████████████████████████████████▌                                     | 6/8 [00:03<00:00,  2.63it/s]"
     ]
    },
    {
     "name": "stdout",
     "output_type": "stream",
     "text": [
      "Compared shapes: \n",
      "torch.Size([1, 1, 512, 512, 3]) torch.Size([1, 1, 512, 512, 3])\n",
      "Ошибка в батче 5: element 0 of tensors does not require grad and does not have a grad_fn\n"
     ]
    },
    {
     "name": "stderr",
     "output_type": "stream",
     "text": [
      "Эпоха 1:  88%|███████████████████████████████████████████████████████████████████████████████████████████████████████████████████████████████████▎                  | 7/8 [00:03<00:00,  2.92it/s]"
     ]
    },
    {
     "name": "stdout",
     "output_type": "stream",
     "text": [
      "Compared shapes: \n",
      "torch.Size([1, 1, 512, 512, 3]) torch.Size([1, 1, 512, 512, 3])\n",
      "Ошибка в батче 6: element 0 of tensors does not require grad and does not have a grad_fn\n"
     ]
    },
    {
     "name": "stderr",
     "output_type": "stream",
     "text": [
      "Эпоха 1: 100%|██████████████████████████████████████████████████████████████████████████████████████████████████████████████████████████████████████████████████████| 8/8 [00:03<00:00,  2.94it/s]"
     ]
    },
    {
     "name": "stdout",
     "output_type": "stream",
     "text": [
      "Compared shapes: \n",
      "torch.Size([1, 1, 512, 512, 3]) torch.Size([1, 1, 512, 512, 3])\n",
      "Ошибка в батче 7: element 0 of tensors does not require grad and does not have a grad_fn\n"
     ]
    },
    {
     "name": "stderr",
     "output_type": "stream",
     "text": [
      "Эпоха 1: 100%|██████████████████████████████████████████████████████████████████████████████████████████████████████████████████████████████████████████████████████| 8/8 [00:04<00:00,  1.81it/s]\n"
     ]
    },
    {
     "name": "stdout",
     "output_type": "stream",
     "text": [
      "Средняя потеря обучения: 0.000000\n"
     ]
    },
    {
     "name": "stderr",
     "output_type": "stream",
     "text": [
      "Валидация: 100%|████████████████████████████████████████████████████████████████████████████████████████████████████████████████████████████████████████████████████| 2/2 [00:02<00:00,  1.02s/it]\n"
     ]
    },
    {
     "name": "stdout",
     "output_type": "stream",
     "text": [
      "Средняя потеря валидации: 26397.607422\n"
     ]
    },
    {
     "name": "stderr",
     "output_type": "stream",
     "text": [
      "/home/devel/.draft/renderformer/.venv/lib/python3.10/site-packages/torch/optim/lr_scheduler.py:182: UserWarning: Detected call of `lr_scheduler.step()` before `optimizer.step()`. In PyTorch 1.1.0 and later, you should call them in the opposite order: `optimizer.step()` before `lr_scheduler.step()`.  Failure to do this will result in PyTorch skipping the first value of the learning rate schedule. See more details at https://pytorch.org/docs/stable/optim.html#how-to-adjust-learning-rate\n",
      "  warnings.warn(\n"
     ]
    },
    {
     "name": "stdout",
     "output_type": "stream",
     "text": [
      "Чекпоинт сохранен: checkpoints/best_model.pth\n",
      "Новая лучшая модель сохранена! Val Loss: 26397.607422\n",
      "\n",
      "=== Эпоха 2/3 ===\n"
     ]
    },
    {
     "name": "stderr",
     "output_type": "stream",
     "text": [
      "Эпоха 2:  12%|██████████████████▊                                                                                                                                   | 1/8 [00:01<00:07,  1.01s/it]"
     ]
    },
    {
     "name": "stdout",
     "output_type": "stream",
     "text": [
      "Предупреждение: GT изображение не найдено: /home/devel/.draft/renderformer/datasets/gt/random_scene_3_obj3.png\n",
      "Compared shapes: \n",
      "torch.Size([1, 1, 512, 512, 3]) torch.Size([1, 1, 512, 512, 3])\n",
      "Ошибка в батче 0: element 0 of tensors does not require grad and does not have a grad_fn\n"
     ]
    },
    {
     "name": "stderr",
     "output_type": "stream",
     "text": [
      "Эпоха 2:  25%|█████████████████████████████████████▌                                                                                                                | 2/8 [00:01<00:03,  1.59it/s]"
     ]
    },
    {
     "name": "stdout",
     "output_type": "stream",
     "text": [
      "Compared shapes: \n",
      "torch.Size([1, 1, 512, 512, 3]) torch.Size([1, 1, 512, 512, 3])\n",
      "Ошибка в батче 1: element 0 of tensors does not require grad and does not have a grad_fn\n"
     ]
    },
    {
     "name": "stderr",
     "output_type": "stream",
     "text": [
      "Эпоха 2:  38%|████████████████████████████████████████████████████████▎                                                                                             | 3/8 [00:01<00:02,  1.96it/s]"
     ]
    },
    {
     "name": "stdout",
     "output_type": "stream",
     "text": [
      "Compared shapes: \n",
      "torch.Size([1, 1, 512, 512, 3]) torch.Size([1, 1, 512, 512, 3])\n",
      "Ошибка в батче 2: element 0 of tensors does not require grad and does not have a grad_fn\n"
     ]
    },
    {
     "name": "stderr",
     "output_type": "stream",
     "text": [
      "Эпоха 2:  50%|███████████████████████████████████████████████████████████████████████████                                                                           | 4/8 [00:02<00:01,  2.26it/s]"
     ]
    },
    {
     "name": "stdout",
     "output_type": "stream",
     "text": [
      "Compared shapes: \n",
      "torch.Size([1, 1, 512, 512, 3]) torch.Size([1, 1, 512, 512, 3])\n",
      "Ошибка в батче 3: element 0 of tensors does not require grad and does not have a grad_fn\n"
     ]
    },
    {
     "name": "stderr",
     "output_type": "stream",
     "text": [
      "Эпоха 2:  62%|█████████████████████████████████████████████████████████████████████████████████████████████▊                                                        | 5/8 [00:02<00:01,  2.64it/s]"
     ]
    },
    {
     "name": "stdout",
     "output_type": "stream",
     "text": [
      "Compared shapes: \n",
      "torch.Size([1, 1, 512, 512, 3]) torch.Size([1, 1, 512, 512, 3])\n",
      "Ошибка в батче 4: element 0 of tensors does not require grad and does not have a grad_fn\n"
     ]
    },
    {
     "name": "stderr",
     "output_type": "stream",
     "text": [
      "Эпоха 2:  75%|████████████████████████████████████████████████████████████████████████████████████████████████████████████████▌                                     | 6/8 [00:02<00:00,  2.93it/s]"
     ]
    },
    {
     "name": "stdout",
     "output_type": "stream",
     "text": [
      "Compared shapes: \n",
      "torch.Size([1, 1, 512, 512, 3]) torch.Size([1, 1, 512, 512, 3])\n",
      "Ошибка в батче 5: element 0 of tensors does not require grad and does not have a grad_fn\n"
     ]
    },
    {
     "name": "stderr",
     "output_type": "stream",
     "text": [
      "Эпоха 2:  88%|███████████████████████████████████████████████████████████████████████████████████████████████████████████████████████████████████▎                  | 7/8 [00:02<00:00,  2.93it/s]"
     ]
    },
    {
     "name": "stdout",
     "output_type": "stream",
     "text": [
      "Compared shapes: \n",
      "torch.Size([1, 1, 512, 512, 3]) torch.Size([1, 1, 512, 512, 3])\n",
      "Ошибка в батче 6: element 0 of tensors does not require grad and does not have a grad_fn\n"
     ]
    },
    {
     "name": "stderr",
     "output_type": "stream",
     "text": [
      "Эпоха 2: 100%|██████████████████████████████████████████████████████████████████████████████████████████████████████████████████████████████████████████████████████| 8/8 [00:03<00:00,  2.75it/s]"
     ]
    },
    {
     "name": "stdout",
     "output_type": "stream",
     "text": [
      "Compared shapes: \n",
      "torch.Size([1, 1, 512, 512, 3]) torch.Size([1, 1, 512, 512, 3])\n",
      "Ошибка в батче 7: element 0 of tensors does not require grad and does not have a grad_fn\n"
     ]
    },
    {
     "name": "stderr",
     "output_type": "stream",
     "text": [
      "Эпоха 2: 100%|██████████████████████████████████████████████████████████████████████████████████████████████████████████████████████████████████████████████████████| 8/8 [00:04<00:00,  1.97it/s]\n"
     ]
    },
    {
     "name": "stdout",
     "output_type": "stream",
     "text": [
      "Средняя потеря обучения: 0.000000\n"
     ]
    },
    {
     "name": "stderr",
     "output_type": "stream",
     "text": [
      "Валидация: 100%|████████████████████████████████████████████████████████████████████████████████████████████████████████████████████████████████████████████████████| 2/2 [00:02<00:00,  1.03s/it]\n"
     ]
    },
    {
     "name": "stdout",
     "output_type": "stream",
     "text": [
      "Средняя потеря валидации: 26397.607422\n",
      "\n",
      "=== Эпоха 3/3 ===\n"
     ]
    },
    {
     "name": "stderr",
     "output_type": "stream",
     "text": [
      "Эпоха 3:   0%|                                                                                                                                                              | 0/8 [00:00<?, ?it/s]"
     ]
    },
    {
     "name": "stdout",
     "output_type": "stream",
     "text": [
      "Предупреждение: GT изображение не найдено: /home/devel/.draft/renderformer/datasets/gt/random_scene_3_obj3.png\n"
     ]
    },
    {
     "name": "stderr",
     "output_type": "stream",
     "text": [
      "Эпоха 3:  12%|██████████████████▊                                                                                                                                   | 1/8 [00:00<00:06,  1.01it/s]"
     ]
    },
    {
     "name": "stdout",
     "output_type": "stream",
     "text": [
      "Compared shapes: \n",
      "torch.Size([1, 1, 512, 512, 3]) torch.Size([1, 1, 512, 512, 3])\n",
      "Ошибка в батче 0: element 0 of tensors does not require grad and does not have a grad_fn\n"
     ]
    },
    {
     "name": "stderr",
     "output_type": "stream",
     "text": [
      "Эпоха 3:  25%|█████████████████████████████████████▌                                                                                                                | 2/8 [00:01<00:03,  1.57it/s]"
     ]
    },
    {
     "name": "stdout",
     "output_type": "stream",
     "text": [
      "Compared shapes: \n",
      "torch.Size([1, 1, 512, 512, 3]) torch.Size([1, 1, 512, 512, 3])\n",
      "Ошибка в батче 1: element 0 of tensors does not require grad and does not have a grad_fn\n"
     ]
    },
    {
     "name": "stderr",
     "output_type": "stream",
     "text": [
      "Эпоха 3:  38%|████████████████████████████████████████████████████████▎                                                                                             | 3/8 [00:01<00:02,  1.99it/s]"
     ]
    },
    {
     "name": "stdout",
     "output_type": "stream",
     "text": [
      "Compared shapes: \n",
      "torch.Size([1, 1, 512, 512, 3]) torch.Size([1, 1, 512, 512, 3])\n",
      "Ошибка в батче 2: element 0 of tensors does not require grad and does not have a grad_fn\n"
     ]
    },
    {
     "name": "stderr",
     "output_type": "stream",
     "text": [
      "Эпоха 3:  50%|███████████████████████████████████████████████████████████████████████████                                                                           | 4/8 [00:02<00:01,  2.22it/s]"
     ]
    },
    {
     "name": "stdout",
     "output_type": "stream",
     "text": [
      "Compared shapes: \n",
      "torch.Size([1, 1, 512, 512, 3]) torch.Size([1, 1, 512, 512, 3])\n",
      "Ошибка в батче 3: element 0 of tensors does not require grad and does not have a grad_fn\n"
     ]
    },
    {
     "name": "stderr",
     "output_type": "stream",
     "text": [
      "Эпоха 3:  62%|█████████████████████████████████████████████████████████████████████████████████████████████▊                                                        | 5/8 [00:02<00:01,  2.47it/s]"
     ]
    },
    {
     "name": "stdout",
     "output_type": "stream",
     "text": [
      "Compared shapes: \n",
      "torch.Size([1, 1, 512, 512, 3]) torch.Size([1, 1, 512, 512, 3])\n",
      "Ошибка в батче 4: element 0 of tensors does not require grad and does not have a grad_fn\n"
     ]
    },
    {
     "name": "stderr",
     "output_type": "stream",
     "text": [
      "Эпоха 3:  75%|████████████████████████████████████████████████████████████████████████████████████████████████████████████████▌                                     | 6/8 [00:02<00:00,  2.69it/s]"
     ]
    },
    {
     "name": "stdout",
     "output_type": "stream",
     "text": [
      "Compared shapes: \n",
      "torch.Size([1, 1, 512, 512, 3]) torch.Size([1, 1, 512, 512, 3])\n",
      "Ошибка в батче 5: element 0 of tensors does not require grad and does not have a grad_fn\n"
     ]
    },
    {
     "name": "stderr",
     "output_type": "stream",
     "text": [
      "Эпоха 3:  88%|███████████████████████████████████████████████████████████████████████████████████████████████████████████████████████████████████▎                  | 7/8 [00:03<00:00,  2.71it/s]"
     ]
    },
    {
     "name": "stdout",
     "output_type": "stream",
     "text": [
      "Compared shapes: \n",
      "torch.Size([1, 1, 512, 512, 3]) torch.Size([1, 1, 512, 512, 3])\n",
      "Ошибка в батче 6: element 0 of tensors does not require grad and does not have a grad_fn\n"
     ]
    },
    {
     "name": "stderr",
     "output_type": "stream",
     "text": [
      "Эпоха 3: 100%|██████████████████████████████████████████████████████████████████████████████████████████████████████████████████████████████████████████████████████| 8/8 [00:03<00:00,  2.82it/s]"
     ]
    },
    {
     "name": "stdout",
     "output_type": "stream",
     "text": [
      "Compared shapes: \n",
      "torch.Size([1, 1, 512, 512, 3]) torch.Size([1, 1, 512, 512, 3])\n",
      "Ошибка в батче 7: element 0 of tensors does not require grad and does not have a grad_fn\n"
     ]
    },
    {
     "name": "stderr",
     "output_type": "stream",
     "text": [
      "Эпоха 3: 100%|██████████████████████████████████████████████████████████████████████████████████████████████████████████████████████████████████████████████████████| 8/8 [00:04<00:00,  1.97it/s]\n"
     ]
    },
    {
     "name": "stdout",
     "output_type": "stream",
     "text": [
      "Средняя потеря обучения: 0.000000\n"
     ]
    },
    {
     "name": "stderr",
     "output_type": "stream",
     "text": [
      "Валидация: 100%|████████████████████████████████████████████████████████████████████████████████████████████████████████████████████████████████████████████████████| 2/2 [00:02<00:00,  1.03s/it]\n"
     ]
    },
    {
     "name": "stdout",
     "output_type": "stream",
     "text": [
      "Средняя потеря валидации: 26397.607422\n"
     ]
    },
    {
     "data": {
      "image/png": "[encoded data removed]",
      "text/plain": [
       "<Figure size 1000x600 with 1 Axes>"
      ]
     },
     "metadata": {},
     "output_type": "display_data"
    },
    {
     "name": "stdout",
     "output_type": "stream",
     "text": [
      "Обучение завершено!\n"
     ]
    },
    {
     "ename": "",
     "evalue": "",
     "output_type": "error",
     "traceback": [
      "\u001b[1;31mThe Kernel crashed while executing code in the current cell or a previous cell. \n",
      "\u001b[1;31mPlease review the code in the cell(s) to identify a possible cause of the failure. \n",
      "\u001b[1;31mClick <a href='https://aka.ms/vscodeJupyterKernelCrash'>here</a> for more info. \n",
      "\u001b[1;31mView Jupyter <a href='command:jupyter.viewOutput'>log</a> for further details."
     ]
    }
   ],
   "source": [
    "# Set train params\n",
    "device = torch.device('cuda:0' if torch.cuda.is_available() else 'mps' if torch.backends.mps.is_available() else 'cpu')\n",
    "\n",
    "model_id = \"microsoft/renderformer-v1.1-swin-large\"\n",
    "pipeline = RenderFormerRenderingPipeline.from_pretrained(model_id)\n",
    "\n",
    "if device == torch.device('cuda') and os.name == 'posix':  # avoid windows\n",
    "    from renderformer_liger_kernel import apply_kernels\n",
    "    apply_kernels(pipeline.model)\n",
    "    torch.backends.cuda.matmul.allow_tf32 = True\n",
    "    torch.backends.cudnn.allow_tf32 = True\n",
    "elif device == torch.device('mps'):\n",
    "    precision = 'fp32'\n",
    "    print(\"bf16 and fp16 will cause too large error in MPS, force using fp32 instead.\")\n",
    "\n",
    "# Start training\n",
    "trainer = train_model(pipeline, num_epochs=3, device=device)"
   ]
  }
 ],
 "metadata": {
  "kernelspec": {
   "display_name": ".venv",
   "language": "python",
   "name": ".venv"
  },
  "language_info": {
   "codemirror_mode": {
    "name": "ipython",
    "version": 3
   },
   "file_extension": ".py",
   "mimetype": "text/x-python",
   "name": "python",
   "nbconvert_exporter": "python",
   "pygments_lexer": "ipython3",
   "version": "3.10.12"
  }
 },
 "nbformat": 4,
 "nbformat_minor": 5
}
